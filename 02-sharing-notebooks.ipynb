{
 "cells": [
  {
   "cell_type": "markdown",
   "metadata": {},
   "source": [
    "## Converting notebooks to other file formats\n",
    "\n",
    "The notebook is saved as a ``.ipynb`` file:"
   ]
  },
  {
   "cell_type": "code",
   "execution_count": 2,
   "metadata": {
    "collapsed": false
   },
   "outputs": [
    {
     "data": {
      "text/plain": [
       "['.git',\n",
       " '.gitignore',\n",
       " '.ipynb_checkpoints',\n",
       " '00-python-intro-w-solutions.ipynb',\n",
       " '00-python-intro.ipynb',\n",
       " '01-data-and-plotting.ipynb',\n",
       " '02-sharing-notebooks.ipynb',\n",
       " '03-modularization-documentation.ipynb',\n",
       " '04-sklearn-abalone.ipynb',\n",
       " '05-multiprocessing.ipynb',\n",
       " 'README.md',\n",
       " 'data',\n",
       " 'fig']"
      ]
     },
     "execution_count": 2,
     "metadata": {},
     "output_type": "execute_result"
    }
   ],
   "source": [
    "import os\n",
    "sorted(os.listdir('.'))"
   ]
  },
  {
   "cell_type": "markdown",
   "metadata": {},
   "source": [
    "Jupyter includes a command line tool, ``nbconvert``, to convert notebook files to:\n",
    "\n",
    "* HTML\n",
    "* Markdown\n",
    "* Scripts (``.py`` files from Python notebooks)\n",
    "* reStructuredText\n",
    "* PDF (using LaTeX)\n",
    "\n",
    "To use it, run this from a command prompt:\n",
    "\n",
    "    jupyter nbconvert --to html 01-data-and-plotting.ipynb\n",
    "\n",
    "By converting the notebook to HTML or PDF, you can share its contents with people who don't have Jupyter installed."
   ]
  },
  {
   "cell_type": "markdown",
   "metadata": {},
   "source": [
    "## Sharing notebooks on the web\n",
    "\n",
    "If you use Github to store notebook files, they can easily be viewed on the web. For example, have a look at [this notebook on Github](https://github.com/jupyter/mozfest15-training/blob/master/02-sharing-notebooks.ipynb).\n",
    "\n",
    "You can view notebook files published elsewhere using http://nbviewer.jupyter.org/. This is a free service that takes a URL and produces an HTML view of the notebook. For example:\n",
    "\n",
    "* http://nbviewer.ipython.org/url/jakevdp.github.com/downloads/notebooks/XKCD_plots.ipynb\n",
    "\n",
    "Nbviewer pages also include a link to download the ``.ipynb`` file, so when you see an interesting notebook, you can edit and run your own copy."
   ]
  }
 ],
 "metadata": {
  "kernelspec": {
   "display_name": "Python 3",
   "language": "python",
   "name": "python3"
  },
  "language_info": {
   "codemirror_mode": {
    "name": "ipython",
    "version": 3
   },
   "file_extension": ".py",
   "mimetype": "text/x-python",
   "name": "python",
   "nbconvert_exporter": "python",
   "pygments_lexer": "ipython3",
   "version": "3.4.3"
  }
 },
 "nbformat": 4,
 "nbformat_minor": 0
}
